{
 "cells": [
  {
   "cell_type": "code",
   "execution_count": 2,
   "id": "de8ccb6c",
   "metadata": {},
   "outputs": [],
   "source": [
    "String[] textio =  {\n",
    "    \"I thought i saw a stranger standing in front of my apartment building. but then i realized it was my friend waiting for me\",\n",
    "    \"Smiling can demonstrate to other people that you are a friendly person. Shaking a Persons's hand is another way to show friendliness\",\n",
    "    \"People with confidence, usaully make better public speakers. because they feel very comfortable in front of a lot of people\",\n",
    "    \"Many people believe facebook is an effective ways to keep in touch with family and friends. who live far away\",\n",
    "    \"When you meet new people in school, it can sometimes lead to friendships, that last a lifetime\",\n",
    "    \"You should select what wear to an job interview carefully what wear to an interview is very important\",\n",
    "    \"I really appreciate my frined they always give me good advice\",\n",
    "    \"One of the best ways to maintain conversation is to keep asking questions; then it can easily continue\",\n",
    "    \"Adel wanted to impress the interviewer , so he told him about the important project he worked on\",\n",
    "    \"Jokes are a great way to [break the ice] when meet new people, but you should never tell offensive jokes that make them feel uncomfortable or angry\"\n",
    "}"
   ]
  },
  {
   "cell_type": "code",
   "execution_count": 3,
   "id": "9e0a4454",
   "metadata": {},
   "outputs": [
    {
     "name": "stdout",
     "output_type": "stream",
     "text": [
      "I thought i saw a stranger standing in front of my apartment building. but then i realized it was my friend waiting for me\n",
      "Smiling can demonstrate to other people that you are a friendly person. Shaking a Persons's hand is another way to show friendliness\n",
      "People with confidence, usaully make better public speakers. because they feel very comfortable in front of a lot of people\n",
      "Many people believe facebook is an effective ways to keep in touch with family and friends. who live far away\n",
      "When you meet new people in school, it can sometimes lead to friendships, that last a lifetime\n",
      "You should select what wear to an job interview carefully what wear to an interview is very important\n",
      "I really appreciate my frined they always give me good advice\n",
      "One of the best ways to maintain conversation is to keep asking questions; then it can easily continue\n",
      "Adel wanted to impress the interviewer , so he told him about the important project he worked on\n",
      "Jokes are a great way to [break the ice] when meet new people, but you should never tell offensive jokes that make them feel uncomfortable or angry\n"
     ]
    }
   ],
   "source": [
    "for(String e : textio){\n",
    "    System.out.println(e);\n",
    "}"
   ]
  }
 ],
 "metadata": {
  "kernelspec": {
   "display_name": "Java",
   "language": "java",
   "name": "java"
  },
  "language_info": {
   "codemirror_mode": "java",
   "file_extension": ".jshell",
   "mimetype": "text/x-java-source",
   "name": "Java",
   "pygments_lexer": "java",
   "version": "20.0.1+9-29"
  }
 },
 "nbformat": 4,
 "nbformat_minor": 5
}
