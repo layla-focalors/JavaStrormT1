{
 "cells": [
  {
   "cell_type": "code",
   "execution_count": 4,
   "id": "15492461",
   "metadata": {},
   "outputs": [
    {
     "name": "stdout",
     "output_type": "stream",
     "text": [
      "01 I thought i saw a stranger standing in front of my apartment building, but then i realized it was my friend waiting for me\r\n"
     ]
    }
   ],
   "source": [
    "String[] textbook = {\"01 I thought i saw a stranger standing in front of my apartment building, but then i realized it was my friend waiting for me\",\n",
    "                     \"02 Smiling are demonstrate to other people, that you are a friendly person, Shaking Person's hand is another way to show friendliness\",\n",
    "                    \"03 People with confidence, Usually make better public Speakers. because they feel very comfortable standing in front of a lot of people\",\n",
    "                    \"04 Many people believe facebook is an effective way to keep in touch with family and friends. who live far away\",\n",
    "                    \"05 When you meet new people in school, it can sometimes lead to friendships that last a lifetime\",\n",
    "                    \"06 You should select what wear to an job interview Carefullty what wear you to an interview is very important\",\n",
    "                    \"07 I really appreciate my frineds thay always give me good advice\",\n",
    "                    \"08 Adel wanted to impress the interviewer, so he told him about the important project he worked on\",\n",
    "                    \"09 One of the best ways to maintain conversation is to keep asking question; then it can easily continue\",\n",
    "                    \"10 Jokes are a great way to 'break the ice' when meet new people, but you should never tell offiensive jokes. that make them feel uncomfortable or angry\"};\n",
    "System.out.println(textbook[0]);"
   ]
  },
  {
   "cell_type": "code",
   "execution_count": 8,
   "id": "40c543d7",
   "metadata": {},
   "outputs": [
    {
     "name": "stdout",
     "output_type": "stream",
     "text": [
      "01 I thought i saw a stranger standing in front of my apartment building, but then i realized it was my friend waiting for me\n",
      "02 Smiling are demonstrate to other people, that you are a friendly person, Shaking Person's hand is another way to show friendliness\n",
      "03 People with confidence, Usually make better public Speakers. because they feel very comfortable standing in front of a lot of people\n",
      "04 Many people believe facebook is an effective way to keep in touch with family and friends. who live far away\n",
      "05 When you meet new people in school, it can sometimes lead to friendships that last a lifetime\n",
      "06 You should select what wear to an job interview Carefullty what wear you to an interview is very important\n",
      "07 I really appreciate my frineds thay always give me good advice\n",
      "08 Adel wanted to impress the interviewer, so he told him about the important project he worked on\n",
      "09 One of the best ways to maintain conversation is to keep asking question; then it can easily continue\n",
      "10 Jokes are a great way to 'break the ice' when meet new people, but you should never tell offiensive jokes. that make them feel uncomfortable or angry\n"
     ]
    }
   ],
   "source": [
    "for(String e : textbook){\n",
    "    System.out.println(e);\n",
    "}"
   ]
  }
 ],
 "metadata": {
  "kernelspec": {
   "display_name": "Java",
   "language": "java",
   "name": "java"
  },
  "language_info": {
   "codemirror_mode": "java",
   "file_extension": ".jshell",
   "mimetype": "text/x-java-source",
   "name": "Java",
   "pygments_lexer": "java",
   "version": "20.0.1+9-29"
  }
 },
 "nbformat": 4,
 "nbformat_minor": 5
}
