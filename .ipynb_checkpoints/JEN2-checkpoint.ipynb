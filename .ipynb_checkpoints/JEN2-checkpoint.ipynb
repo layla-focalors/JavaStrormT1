{
 "cells": [
  {
   "cell_type": "code",
   "execution_count": 1,
   "id": "8c3abfb6",
   "metadata": {},
   "outputs": [],
   "source": [
    "String[] sts = {\n",
    "    \"I thought i saw a stranger standing in front of my apartment building, but then i realized it was my frield, waiting for me\",\n",
    "    \"Smiling can demonstrate to other people,that you are a friendly person, Shaking a Person's hand is another way to show friendliness\",\n",
    "    \"people with confidence, usually make better public speakers. because they fell very comfortable standing in front of a lot of people.\",\n",
    "    \"Many people believe facebook is an effective way to keep in touch with family and friends who live far away\",\n",
    "    \"when you meet new people in school, it can sometimes lead to friendships that last a lifetime\",\n",
    "    \"You should select what wear to an job interview carefully. what you waer to an interview is very important\",\n",
    "    \"I really appreciate my frineds they always give me good advice\",\n",
    "    \"Adel wanted to impress the interviewer, so he told him about the important project he worked on\",\n",
    "    \"One of the best ways to maintain conversation is to keep asking questions; then it can easily continue.\",\n",
    "    \"Jokes are great way to [break the ice] when meet new people. but you should never tell offensive jokes that make them feel uncomfortable or angry\"\n",
    "}"
   ]
  },
  {
   "cell_type": "code",
   "execution_count": 2,
   "id": "3aa681e1",
   "metadata": {},
   "outputs": [
    {
     "name": "stdout",
     "output_type": "stream",
     "text": [
      "I thought i saw a stranger standing in front of my apartment building, but then i realized it was my frield, waiting for me\n",
      "Smiling can demonstrate to other people,that you are a friendly person, Shaking a Person's hand is another way to show friendliness\n",
      "people with confidence, usually make better public speakers. because they fell very comfortable standing in front of a lot of people.\n",
      "Many people believe facebook is an effective way to keep in touch with family and friends who live far away\n",
      "when you meet new people in school, it can sometimes lead to friendships that last a lifetime\n",
      "You should select what wear to an job interview carefully. what you waer to an interview is very important\n",
      "I really appreciate my frineds they always give me good advice\n",
      "Adel wanted to impress the interviewer, so he told him about the important project he worked on\n",
      "One of the best ways to maintain conversation is to keep asking questions; then it can easily continue.\n",
      "Jokes are great way to [break the ice] when meet new people. but you should never tell offensive jokes that make them feel uncomfortable or angry\n"
     ]
    }
   ],
   "source": [
    "for(String e : sts){\n",
    "    System.out.println(e);\n",
    "}"
   ]
  }
 ],
 "metadata": {
  "kernelspec": {
   "display_name": "Java",
   "language": "java",
   "name": "java"
  },
  "language_info": {
   "codemirror_mode": "java",
   "file_extension": ".jshell",
   "mimetype": "text/x-java-source",
   "name": "Java",
   "pygments_lexer": "java",
   "version": "20.0.1+9-29"
  }
 },
 "nbformat": 4,
 "nbformat_minor": 5
}
