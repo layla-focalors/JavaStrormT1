{
 "cells": [
  {
   "cell_type": "code",
   "execution_count": 1,
   "id": "cca63639",
   "metadata": {},
   "outputs": [],
   "source": [
    "public class layla{\n",
    "    public static void main(String[] args){\n",
    "        System.out.println(\"A\");\n",
    "    }\n",
    "}"
   ]
  },
  {
   "cell_type": "code",
   "execution_count": 2,
   "id": "25d568ea",
   "metadata": {},
   "outputs": [
    {
     "name": "stdout",
     "output_type": "stream",
     "text": [
      "A\r\n"
     ]
    }
   ],
   "source": [
    "System.out.println(\"A\");"
   ]
  },
  {
   "cell_type": "code",
   "execution_count": 26,
   "id": "7f8e13fb",
   "metadata": {},
   "outputs": [
    {
     "name": "stdout",
     "output_type": "stream",
     "text": [
      "I thought I saw a stranger Standing in front of my apartment building but then i realized it was myfried waiting for me\r\n"
     ]
    }
   ],
   "source": [
    "String[] texts = {\n",
    "    \"I thought I saw a stranger Standing in front of my apartment building but then i realized it was myfried waiting for me\",\n",
    "    \"Smiling can demonstrate to other people that you are a friendly Person, Shaking Persons's hand is another way to show friendliness\",\n",
    "    \"People with confidence, usually make better public speakers. bacause they feel very comfortable standing in front of a lot of people\",\n",
    "    \"Many people believe facebook is an effective way to keep in touch with family and friends who live far away\",\n",
    "    \"When you meet new people in school, it can sometimes lead to friendships that last a lifetime\",\n",
    "    \"You should select what wear to an job interview carefully. what wear to an interview is very important\",\n",
    "    \"I really appreciate my friends. They always give me good advice\",\n",
    "    \"Adel wanted to impress the interviewer, so he told him about the important project he worked on\",\n",
    "    \"One of the best way to maintain conversations is to keep asking questions. then it can easily to continue\",\n",
    "    \"Jokes are a great ways to 'break the ice' when you meet new people, but you should never tell offiensive jokes. that make them feel uncomfortable or angry\"\n",
    "};\n",
    "System.out.println(texts[0]);"
   ]
  },
  {
   "cell_type": "code",
   "execution_count": 27,
   "id": "6c24413f",
   "metadata": {},
   "outputs": [
    {
     "name": "stdout",
     "output_type": "stream",
     "text": [
      "0I thought I saw a stranger Standing in front of my apartment building but then i realized it was myfried waiting for me\n",
      "1Smiling can demonstrate to other people that you are a friendly Person, Shaking Persons's hand is another way to show friendliness\n",
      "2People with confidence, usually make better public speakers. bacause they feel very comfortable standing in front of a lot of people\n",
      "3Many people believe facebook is an effective way to keep in touch with family and friends who live far away\n",
      "4When you meet new people in school, it can sometimes lead to friendships that last a lifetime\n",
      "5You should select what wear to an job interview carefully. what wear to an interview is very important\n",
      "6I really appreciate my friends. They always give me good advice\n",
      "7Adel wanted to impress the interviewer, so he told him about the important project he worked on\n",
      "8One of the best way to maintain conversations is to keep asking questions. then it can easily to continue\n",
      "9Jokes are a great ways to 'break the ice' when you meet new people, but you should never tell offiensive jokes. that make them feel uncomfortable or angry\n"
     ]
    }
   ],
   "source": [
    "int i = 0;\n",
    "for(String s : texts){\n",
    "    System.out.println(i + s);\n",
    "    i = i + 1;\n",
    "}"
   ]
  },
  {
   "cell_type": "code",
   "execution_count": 36,
   "id": "354a2aa9",
   "metadata": {},
   "outputs": [
    {
     "name": "stdout",
     "output_type": "stream",
     "text": [
      "01 i thought i saw a stranger standing in front of my apartment building. but then i realized it was myfirend waiting for me\n",
      "02 Similes can demonstrate to other people that are you a friendly person. Shaking person's hand is another way to show friendliness\n",
      "03 People with confidence Usually make better public speakers. because they feel very comfortable standing in front of a lot of people\n",
      "04 Many people believe facebook is an effiective way to keep in touch family and frends who live far away\n",
      "05 When you meet new people in school, it can sometimes lead to friendships that last a lifetime\n",
      "06 You should select what wear to an job interview carefully. what wear to an interview is very important\n",
      "07 Adel Wanted to impress the interviewer, so he told him about the important project he worked on\n",
      "08 One of the best ways to maintain conversation is keep asking questions; then it can easily continue\n",
      "09 Jokes are great ways to 'break the ice' when meet new people, but you should never tell offiensive jokes. that make them fill uncomfortable or angry\n"
     ]
    }
   ],
   "source": [
    "String[] text = new String[10];\n",
    "text[0] = \"01 i thought i saw a stranger standing in front of my apartment building. but then i realized it was myfirend waiting for me\";\n",
    "text[1] = \"02 Similes can demonstrate to other people that are you a friendly person. Shaking person's hand is another way to show friendliness\";\n",
    "text[2] = \"03 People with confidence Usually make better public speakers. because they feel very comfortable standing in front of a lot of people\";\n",
    "text[3] = \"04 Many people believe facebook is an effiective way to keep in touch family and frends who live far away\";\n",
    "text[4] = \"05 When you meet new people in school, it can sometimes lead to friendships that last a lifetime\";\n",
    "text[5] = \"06 You should select what wear to an job interview carefully. what wear to an interview is very important\";\n",
    "text[6] = \"07 Adel Wanted to impress the interviewer, so he told him about the important project he worked on\";\n",
    "text[7] = \"08 One of the best ways to maintain conversation is keep asking questions; then it can easily continue\";\n",
    "text[8] = \"09 Jokes are great ways to 'break the ice' when meet new people, but you should never tell offiensive jokes. that make them fill uncomfortable or angry\";\n",
    "\n",
    "for(int i = 0; i < text.length - 1; i++ ){\n",
    "    System.out.println(text[i]);\n",
    "}"
   ]
  }
 ],
 "metadata": {
  "kernelspec": {
   "display_name": "Java",
   "language": "java",
   "name": "java"
  },
  "language_info": {
   "codemirror_mode": "java",
   "file_extension": ".jshell",
   "mimetype": "text/x-java-source",
   "name": "Java",
   "pygments_lexer": "java",
   "version": "20.0.1+9-29"
  }
 },
 "nbformat": 4,
 "nbformat_minor": 5
}
