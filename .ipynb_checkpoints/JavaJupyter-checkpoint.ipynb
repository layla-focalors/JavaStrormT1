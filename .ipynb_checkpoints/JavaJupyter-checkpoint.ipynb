{
 "cells": [
  {
   "cell_type": "code",
   "execution_count": 1,
   "id": "cca63639",
   "metadata": {},
   "outputs": [],
   "source": [
    "public class layla{\n",
    "    public static void main(String[] args){\n",
    "        System.out.println(\"A\");\n",
    "    }\n",
    "}"
   ]
  },
  {
   "cell_type": "code",
   "execution_count": 2,
   "id": "25d568ea",
   "metadata": {},
   "outputs": [
    {
     "name": "stdout",
     "output_type": "stream",
     "text": [
      "A\r\n"
     ]
    }
   ],
   "source": [
    "System.out.println(\"A\");"
   ]
  },
  {
   "cell_type": "code",
   "execution_count": 14,
   "id": "7f8e13fb",
   "metadata": {},
   "outputs": [
    {
     "name": "stdout",
     "output_type": "stream",
     "text": [
      "I thought I saw a stranger Standing in front of my apartment building but then i realized it was myfried waiting for me\r\n"
     ]
    }
   ],
   "source": [
    "String[] texts = {\n",
    "    \"I thought I saw a stranger Standing in front of my apartment building but then i realized it was myfried waiting for me\",\n",
    "    \"Smiling can demonstrate to other people that you are a friendly Person, Shaking Persons's hand is another way to show friendliness\",\n",
    "    \"People with confidence, usually make better public speakers. bacause they feel very comfortable standing in front of a lot of people\",\n",
    "    \"Many people believe facebook is an effective way to keep in touch with family and friends who live far away\",\n",
    "    \"When you meet new people in school, it can sometimes lead to friendships that last a lifetime\",\n",
    "    \"You should select what wear to an job interview carefully. what wear to an interview is very important\",\n",
    "    \"I really appreciate my friends. They always give me good advice\",\n",
    "    \"Adel wanted to impress the interviewer, so he told him about the important project he worked on\",\n",
    "    \"One of the best way to keep conversations is to keep asking questions. then it can easily to continue\",\n",
    "    \"Jokes are a great ways to 'break the ice' when you meet new people, but you should never tell offiensive jokes. that make them feel uncomfortable or angry\"\n",
    "};\n",
    "System.out.println(texts[0]);"
   ]
  },
  {
   "cell_type": "code",
   "execution_count": 21,
   "id": "6c24413f",
   "metadata": {},
   "outputs": [
    {
     "name": "stdout",
     "output_type": "stream",
     "text": [
      "0I thought I saw a stranger Standing in front of my apartment building but then i realized it was myfried waiting for me\n",
      "1Smiling can demonstrate to other people that you are a friendly Person, Shaking Persons's hand is another way to show friendliness\n",
      "2People with confidence, usually make better public speakers. bacause they feel very comfortable standing in front of a lot of people\n",
      "3Many people believe facebook is an effective way to keep in touch with family and friends who live far away\n",
      "4When you meet new people in school, it can sometimes lead to friendships that last a lifetime\n",
      "5You should select what wear to an job interview carefully. what wear to an interview is very important\n",
      "6I really appreciate my friends. They always give me good advice\n",
      "7Adel wanted to impress the interviewer, so he told him about the important project he worked on\n",
      "8One of the best way to keep conversations is to keep asking questions. then it can easily to continue\n",
      "9Jokes are a great ways to 'break the ice' when you meet new people, but you should never tell offiensive jokes. that make them feel uncomfortable or angry\n"
     ]
    }
   ],
   "source": [
    "int i = 0;\n",
    "for(String s : texts){\n",
    "    System.out.println(i + s);\n",
    "    i = i + 1;\n",
    "}"
   ]
  }
 ],
 "metadata": {
  "kernelspec": {
   "display_name": "Java",
   "language": "java",
   "name": "java"
  },
  "language_info": {
   "codemirror_mode": "java",
   "file_extension": ".jshell",
   "mimetype": "text/x-java-source",
   "name": "Java",
   "pygments_lexer": "java",
   "version": "20.0.1+9-29"
  }
 },
 "nbformat": 4,
 "nbformat_minor": 5
}
