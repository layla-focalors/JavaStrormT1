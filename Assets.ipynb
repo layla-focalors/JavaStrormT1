{
 "cells": [
  {
   "cell_type": "code",
   "execution_count": 22,
   "id": "6508cd2b",
   "metadata": {},
   "outputs": [
    {
     "name": "stdout",
     "output_type": "stream",
     "text": [
      "702\r\n"
     ]
    }
   ],
   "source": [
    "int a = (int)(Math.random() * 10_000);\n",
    "System.out.println(a);"
   ]
  },
  {
   "cell_type": "code",
   "execution_count": 21,
   "id": "1f8f70e7",
   "metadata": {},
   "outputs": [
    {
     "name": "stdout",
     "output_type": "stream",
     "text": [
      "20\r\n"
     ]
    }
   ],
   "source": [
    "int b = (a < 100) ? 10 : 20;\n",
    "System.out.println(b);"
   ]
  },
  {
   "cell_type": "code",
   "execution_count": 30,
   "id": "62df9554",
   "metadata": {},
   "outputs": [
    {
     "name": "stdout",
     "output_type": "stream",
     "text": [
      "false\r\n"
     ]
    }
   ],
   "source": [
    "boolean c = (a%7 == 0) ? true : false;\n",
    "System.out.println(c);"
   ]
  },
  {
   "cell_type": "code",
   "execution_count": 26,
   "id": "68a66a78",
   "metadata": {},
   "outputs": [
    {
     "name": "stdout",
     "output_type": "stream",
     "text": [
      "10\r\n"
     ]
    }
   ],
   "source": [
    "int c = (a%2 == 0) ? 10 : 20;\n",
    "System.out.println(c);"
   ]
  }
 ],
 "metadata": {
  "kernelspec": {
   "display_name": "Java",
   "language": "java",
   "name": "java"
  },
  "language_info": {
   "codemirror_mode": "java",
   "file_extension": ".jshell",
   "mimetype": "text/x-java-source",
   "name": "Java",
   "pygments_lexer": "java",
   "version": "20.0.1+9-29"
  }
 },
 "nbformat": 4,
 "nbformat_minor": 5
}
